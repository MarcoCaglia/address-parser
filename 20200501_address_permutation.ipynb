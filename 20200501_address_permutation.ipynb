{
 "cells": [
  {
   "cell_type": "markdown",
   "metadata": {},
   "source": [
    "# Address Permutation\n",
    "To actually get a viable training set, the addresses will have to be permutated, obviosuly, they cannot be in a standardized form, or the model will overfit badly and will not be able to generalize."
   ]
  },
  {
   "cell_type": "code",
   "execution_count": 5,
   "metadata": {},
   "outputs": [],
   "source": [
    "import pandas as pd\n",
    "from tqdm import tqdm\n",
    "import numpy as np"
   ]
  },
  {
   "cell_type": "code",
   "execution_count": 2,
   "metadata": {},
   "outputs": [],
   "source": [
    "open_addresses = pd.read_csv('./data/openaddr-collected-europe/pt/countrywide.csv')[['STREET', 'NUMBER', 'POSTCODE', 'CITY']].values"
   ]
  },
  {
   "cell_type": "code",
   "execution_count": 3,
   "metadata": {},
   "outputs": [
    {
     "data": {
      "text/plain": [
       "(5911139, 4)"
      ]
     },
     "execution_count": 3,
     "metadata": {},
     "output_type": "execute_result"
    }
   ],
   "source": [
    "open_addresses.shape"
   ]
  },
  {
   "cell_type": "code",
   "execution_count": 4,
   "metadata": {},
   "outputs": [
    {
     "name": "stderr",
     "output_type": "stream",
     "text": [
      "100%|██████████| 5911139/5911139 [00:04<00:00, 1424640.25it/s]\n"
     ]
    }
   ],
   "source": [
    "standardized_addresses = map(lambda x: f'{x[0]} {x[1]}, {x[2]} {x[3]}', tqdm(open_addresses))\n",
    "standardized_addresses = tuple(standardized_addresses)"
   ]
  },
  {
   "cell_type": "code",
   "execution_count": 6,
   "metadata": {},
   "outputs": [],
   "source": [
    "class AddressPermutator:\n",
    "    def __init__(self, addresses):\n",
    "        self.addresses = addresses\n",
    "    \n",
    "    def permutate(self):\n",
    "        random_seed = np.random.uniform(size=(len(self.addresses)))\n",
    "        permutated_addresses = np.empty(shape=(len(self.addresses), 1), dtype=str)\n",
    "        for i, row in self.addresses:\n",
    "            if random_seed[>0.9]:\n",
    "                row = None"
   ]
  }
 ],
 "metadata": {
  "kernelspec": {
   "display_name": "Python 3",
   "language": "python",
   "name": "python3"
  },
  "language_info": {
   "codemirror_mode": {
    "name": "ipython",
    "version": 3
   },
   "file_extension": ".py",
   "mimetype": "text/x-python",
   "name": "python",
   "nbconvert_exporter": "python",
   "pygments_lexer": "ipython3",
   "version": "3.7.4"
  }
 },
 "nbformat": 4,
 "nbformat_minor": 4
}
