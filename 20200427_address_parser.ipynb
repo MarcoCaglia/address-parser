{
 "cells": [
  {
   "cell_type": "markdown",
   "metadata": {},
   "source": [
    "# Address Parser"
   ]
  },
  {
   "cell_type": "markdown",
   "metadata": {},
   "source": [
    "Goal: As a DS, I want to create a Model, which is able to extract the street name, the house number, the postal_code and the city from an arbitrary address.\n",
    "\n",
    "Approach:\n",
    "- Construct simple, standardized training addresses\n",
    "- Test first iteration of model on this training set\n",
    "- Introduce random permutations of addresses\n",
    "- Test and iterate over model to deal with random permutations\n",
    "\n",
    "Source for addresses: https://openaddresses.io/"
   ]
  },
  {
   "cell_type": "code",
   "execution_count": 1,
   "metadata": {},
   "outputs": [],
   "source": [
    "import sys\n",
    "\n",
    "import pandas as pd\n",
    "import numpy as np\n",
    "from tqdm import tqdm\n",
    "\n",
    "from tensorflow.keras.models import Sequential\n",
    "from tensorflow.keras.layers import Dense, LSTM, RNN, Bidirectional, TimeDistributed, LeakyReLU, ReLU\n",
    "from tensorflow.keras.optimizers import Adam\n",
    "\n",
    "from source.address_permutator import AddressPermutator"
   ]
  },
  {
   "cell_type": "code",
   "execution_count": 2,
   "metadata": {},
   "outputs": [],
   "source": [
    "open_addresses = pd.read_csv('data/openaddr-collected-europe/pt/countrywide.csv').sample(250000)"
   ]
  },
  {
   "cell_type": "code",
   "execution_count": 3,
   "metadata": {},
   "outputs": [
    {
     "data": {
      "text/plain": [
       "0.11704186700000001"
      ]
     },
     "execution_count": 3,
     "metadata": {},
     "output_type": "execute_result"
    }
   ],
   "source": [
    "sys.getsizeof(open_addresses)*1e-9"
   ]
  },
  {
   "cell_type": "markdown",
   "metadata": {},
   "source": [
    "### Create Addresses"
   ]
  },
  {
   "cell_type": "code",
   "execution_count": 4,
   "metadata": {},
   "outputs": [
    {
     "data": {
      "text/html": [
       "<div>\n",
       "<style scoped>\n",
       "    .dataframe tbody tr th:only-of-type {\n",
       "        vertical-align: middle;\n",
       "    }\n",
       "\n",
       "    .dataframe tbody tr th {\n",
       "        vertical-align: top;\n",
       "    }\n",
       "\n",
       "    .dataframe thead th {\n",
       "        text-align: right;\n",
       "    }\n",
       "</style>\n",
       "<table border=\"1\" class=\"dataframe\">\n",
       "  <thead>\n",
       "    <tr style=\"text-align: right;\">\n",
       "      <th></th>\n",
       "      <th>LON</th>\n",
       "      <th>LAT</th>\n",
       "      <th>NUMBER</th>\n",
       "      <th>STREET</th>\n",
       "      <th>UNIT</th>\n",
       "      <th>CITY</th>\n",
       "      <th>DISTRICT</th>\n",
       "      <th>REGION</th>\n",
       "      <th>POSTCODE</th>\n",
       "      <th>ID</th>\n",
       "      <th>HASH</th>\n",
       "    </tr>\n",
       "  </thead>\n",
       "  <tbody>\n",
       "    <tr>\n",
       "      <th>437557</th>\n",
       "      <td>-8.678451</td>\n",
       "      <td>37.661822</td>\n",
       "      <td>NaN</td>\n",
       "      <td>NaN</td>\n",
       "      <td>NaN</td>\n",
       "      <td>SÃO LUÍS</td>\n",
       "      <td>NaN</td>\n",
       "      <td>NaN</td>\n",
       "      <td>7630-435</td>\n",
       "      <td>pt.ine.add.PTCONT.442076</td>\n",
       "      <td>2ff689f9290ac435</td>\n",
       "    </tr>\n",
       "    <tr>\n",
       "      <th>2628735</th>\n",
       "      <td>-9.110510</td>\n",
       "      <td>38.773483</td>\n",
       "      <td>120</td>\n",
       "      <td>R SARG ARMANDO MONTEIRO FERREIRA</td>\n",
       "      <td>NaN</td>\n",
       "      <td>LISBOA</td>\n",
       "      <td>NaN</td>\n",
       "      <td>NaN</td>\n",
       "      <td>1800-329</td>\n",
       "      <td>pt.ine.add.PTCONT.3001376</td>\n",
       "      <td>6a6569db76b2beca</td>\n",
       "    </tr>\n",
       "    <tr>\n",
       "      <th>916867</th>\n",
       "      <td>-7.183440</td>\n",
       "      <td>41.480391</td>\n",
       "      <td>189</td>\n",
       "      <td>R VASCO DA GAMA</td>\n",
       "      <td>NaN</td>\n",
       "      <td>MIRANDELA</td>\n",
       "      <td>NaN</td>\n",
       "      <td>NaN</td>\n",
       "      <td>5370-481</td>\n",
       "      <td>pt.ine.add.PTCONT.934703</td>\n",
       "      <td>a3346176d19bbd1f</td>\n",
       "    </tr>\n",
       "    <tr>\n",
       "      <th>3868521</th>\n",
       "      <td>-8.384785</td>\n",
       "      <td>41.280149</td>\n",
       "      <td>37</td>\n",
       "      <td>R NOVA DO SISTELO</td>\n",
       "      <td>NaN</td>\n",
       "      <td>PAÇOS DE FERREIRA</td>\n",
       "      <td>NaN</td>\n",
       "      <td>NaN</td>\n",
       "      <td>4590-177</td>\n",
       "      <td>pt.ine.add.PTCONT.3729528</td>\n",
       "      <td>79645e8bbe7a6e4c</td>\n",
       "    </tr>\n",
       "    <tr>\n",
       "      <th>5832954</th>\n",
       "      <td>-25.590071</td>\n",
       "      <td>37.769852</td>\n",
       "      <td>23</td>\n",
       "      <td>R REI D CARLOS</td>\n",
       "      <td>NaN</td>\n",
       "      <td>PONTA DELGADA</td>\n",
       "      <td>NaN</td>\n",
       "      <td>NaN</td>\n",
       "      <td>9500-606</td>\n",
       "      <td>pt.ine.add.AC26.82807</td>\n",
       "      <td>1fd9f80d1fa1272c</td>\n",
       "    </tr>\n",
       "  </tbody>\n",
       "</table>\n",
       "</div>"
      ],
      "text/plain": [
       "               LON        LAT NUMBER                            STREET  UNIT  \\\n",
       "437557   -8.678451  37.661822    NaN                               NaN   NaN   \n",
       "2628735  -9.110510  38.773483    120  R SARG ARMANDO MONTEIRO FERREIRA   NaN   \n",
       "916867   -7.183440  41.480391    189                   R VASCO DA GAMA   NaN   \n",
       "3868521  -8.384785  41.280149     37                 R NOVA DO SISTELO   NaN   \n",
       "5832954 -25.590071  37.769852     23                    R REI D CARLOS   NaN   \n",
       "\n",
       "                      CITY  DISTRICT  REGION  POSTCODE  \\\n",
       "437557            SÃO LUÍS       NaN     NaN  7630-435   \n",
       "2628735             LISBOA       NaN     NaN  1800-329   \n",
       "916867           MIRANDELA       NaN     NaN  5370-481   \n",
       "3868521  PAÇOS DE FERREIRA       NaN     NaN  4590-177   \n",
       "5832954      PONTA DELGADA       NaN     NaN  9500-606   \n",
       "\n",
       "                                ID              HASH  \n",
       "437557    pt.ine.add.PTCONT.442076  2ff689f9290ac435  \n",
       "2628735  pt.ine.add.PTCONT.3001376  6a6569db76b2beca  \n",
       "916867    pt.ine.add.PTCONT.934703  a3346176d19bbd1f  \n",
       "3868521  pt.ine.add.PTCONT.3729528  79645e8bbe7a6e4c  \n",
       "5832954      pt.ine.add.AC26.82807  1fd9f80d1fa1272c  "
      ]
     },
     "execution_count": 4,
     "metadata": {},
     "output_type": "execute_result"
    }
   ],
   "source": [
    "open_addresses.head()"
   ]
  },
  {
   "cell_type": "code",
   "execution_count": 5,
   "metadata": {
    "scrolled": true
   },
   "outputs": [],
   "source": [
    "open_addresses = open_addresses.fillna('')\n",
    "const_matrix = open_addresses[['STREET', 'NUMBER', 'POSTCODE', 'CITY']].values"
   ]
  },
  {
   "cell_type": "code",
   "execution_count": 6,
   "metadata": {},
   "outputs": [],
   "source": [
    "permutator = AddressPermutator(const_matrix.copy())"
   ]
  },
  {
   "cell_type": "code",
   "execution_count": 7,
   "metadata": {},
   "outputs": [
    {
     "name": "stderr",
     "output_type": "stream",
     "text": [
      "250000it [00:02, 103611.02it/s]\n"
     ]
    }
   ],
   "source": [
    "perm, standard = permutator.permutate()"
   ]
  },
  {
   "cell_type": "code",
   "execution_count": 8,
   "metadata": {},
   "outputs": [],
   "source": [
    "X, y = permutator.encode(perm, standard)"
   ]
  },
  {
   "cell_type": "markdown",
   "metadata": {},
   "source": [
    "### Simple Model"
   ]
  },
  {
   "cell_type": "code",
   "execution_count": 10,
   "metadata": {},
   "outputs": [
    {
     "name": "stdout",
     "output_type": "stream",
     "text": [
      "Model: \"sequential\"\n",
      "_________________________________________________________________\n",
      "Layer (type)                 Output Shape              Param #   \n",
      "=================================================================\n",
      "lstm (LSTM)                  (None, 104, 512)          1181696   \n",
      "_________________________________________________________________\n",
      "leaky_re_lu (LeakyReLU)      (None, 104, 512)          0         \n",
      "_________________________________________________________________\n",
      "lstm_1 (LSTM)                (None, 104, 256)          787456    \n",
      "_________________________________________________________________\n",
      "leaky_re_lu_1 (LeakyReLU)    (None, 104, 256)          0         \n",
      "_________________________________________________________________\n",
      "time_distributed (TimeDistri (None, 104, 128)          32896     \n",
      "_________________________________________________________________\n",
      "leaky_re_lu_2 (LeakyReLU)    (None, 104, 128)          0         \n",
      "_________________________________________________________________\n",
      "time_distributed_1 (TimeDist (None, 104, 64)           8256      \n",
      "=================================================================\n",
      "Total params: 2,010,304\n",
      "Trainable params: 2,010,304\n",
      "Non-trainable params: 0\n",
      "_________________________________________________________________\n"
     ]
    }
   ],
   "source": [
    "simple = Sequential()\n",
    "\n",
    "simple.add(LSTM(512, return_sequences=True, input_shape=(X.shape[1], X.shape[2])))\n",
    "simple.add(LeakyReLU())\n",
    "\n",
    "simple.add(LSTM(256, return_sequences=True))\n",
    "simple.add(LeakyReLU())\n",
    "\n",
    "simple.add(TimeDistributed(Dense(128)))\n",
    "simple.add(LeakyReLU())\n",
    "\n",
    "simple.add(TimeDistributed(Dense(X.shape[2], activation='softmax')))\n",
    "\n",
    "optimizer = Adam(lr=0.01)\n",
    "\n",
    "simple.compile(loss='categorical_crossentropy', optimizer=optimizer, metrics=['accuracy'])\n",
    "simple.summary()"
   ]
  },
  {
   "cell_type": "code",
   "execution_count": null,
   "metadata": {},
   "outputs": [
    {
     "name": "stdout",
     "output_type": "stream",
     "text": [
      "Train on 225000 samples, validate on 25000 samples\n",
      "Epoch 1/5\n",
      "142208/225000 [=================>............] - ETA: 17:43 - loss: 1.0235 - accuracy: 0.7617"
     ]
    }
   ],
   "source": [
    "history = simple.fit(\n",
    "    X,\n",
    "    y,\n",
    "    batch_size=128,\n",
    "    epochs=5,\n",
    "    shuffle=True,\n",
    "    validation_split=0.1\n",
    ")"
   ]
  }
 ],
 "metadata": {
  "kernelspec": {
   "display_name": "Python 3",
   "language": "python",
   "name": "python3"
  },
  "language_info": {
   "codemirror_mode": {
    "name": "ipython",
    "version": 3
   },
   "file_extension": ".py",
   "mimetype": "text/x-python",
   "name": "python",
   "nbconvert_exporter": "python",
   "pygments_lexer": "ipython3",
   "version": "3.7.4"
  }
 },
 "nbformat": 4,
 "nbformat_minor": 4
}
