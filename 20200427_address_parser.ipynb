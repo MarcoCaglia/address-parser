{
 "cells": [
  {
   "cell_type": "markdown",
   "metadata": {},
   "source": [
    "# Address Parser"
   ]
  },
  {
   "cell_type": "markdown",
   "metadata": {},
   "source": [
    "Goal: As a DS, I want to create a Model, which is able to extract the street name, the house number, the postal_code and the city from an arbitrary address.\n",
    "\n",
    "Approach:\n",
    "- Construct simple, standardized training addresses\n",
    "- Test first iteration of model on this training set\n",
    "- Introduce random permutations of addresses\n",
    "- Test and iterate over model to deal with random permutations\n",
    "\n",
    "Source for addresses: https://openaddresses.io/"
   ]
  },
  {
   "cell_type": "code",
   "execution_count": 1,
   "metadata": {},
   "outputs": [],
   "source": [
    "import sys\n",
    "\n",
    "import pandas as pd\n",
    "import numpy as np\n",
    "from tqdm import tqdm\n",
    "\n",
    "from tensorflow.keras.models import Sequential\n",
    "from tensorflow.keras.layers import Dense, LSTM, RNN, Bidirectional, TimeDistributed, LeakyReLU, ReLU\n",
    "from tensorflow.keras.optimizers import Adam"
   ]
  },
  {
   "cell_type": "code",
   "execution_count": 2,
   "metadata": {},
   "outputs": [],
   "source": [
    "open_addresses = pd.read_csv('data/openaddr-collected-europe/pt/countrywide.csv').sample(250000)"
   ]
  },
  {
   "cell_type": "code",
   "execution_count": 3,
   "metadata": {},
   "outputs": [
    {
     "data": {
      "text/plain": [
       "0.117055876"
      ]
     },
     "execution_count": 3,
     "metadata": {},
     "output_type": "execute_result"
    }
   ],
   "source": [
    "sys.getsizeof(open_addresses)*1e-9"
   ]
  },
  {
   "cell_type": "markdown",
   "metadata": {},
   "source": [
    "### Create Addresses"
   ]
  },
  {
   "cell_type": "code",
   "execution_count": 4,
   "metadata": {},
   "outputs": [
    {
     "data": {
      "text/html": [
       "<div>\n",
       "<style scoped>\n",
       "    .dataframe tbody tr th:only-of-type {\n",
       "        vertical-align: middle;\n",
       "    }\n",
       "\n",
       "    .dataframe tbody tr th {\n",
       "        vertical-align: top;\n",
       "    }\n",
       "\n",
       "    .dataframe thead th {\n",
       "        text-align: right;\n",
       "    }\n",
       "</style>\n",
       "<table border=\"1\" class=\"dataframe\">\n",
       "  <thead>\n",
       "    <tr style=\"text-align: right;\">\n",
       "      <th></th>\n",
       "      <th>LON</th>\n",
       "      <th>LAT</th>\n",
       "      <th>NUMBER</th>\n",
       "      <th>STREET</th>\n",
       "      <th>UNIT</th>\n",
       "      <th>CITY</th>\n",
       "      <th>DISTRICT</th>\n",
       "      <th>REGION</th>\n",
       "      <th>POSTCODE</th>\n",
       "      <th>ID</th>\n",
       "      <th>HASH</th>\n",
       "    </tr>\n",
       "  </thead>\n",
       "  <tbody>\n",
       "    <tr>\n",
       "      <th>4410514</th>\n",
       "      <td>-8.235179</td>\n",
       "      <td>39.479835</td>\n",
       "      <td>56</td>\n",
       "      <td>R CALDEIRAS</td>\n",
       "      <td>NaN</td>\n",
       "      <td>RIO DE MOINHOS ABT</td>\n",
       "      <td>NaN</td>\n",
       "      <td>NaN</td>\n",
       "      <td>2200-788</td>\n",
       "      <td>pt.ine.add.PTCONT.4596805</td>\n",
       "      <td>9606f35c2b1b19d0</td>\n",
       "    </tr>\n",
       "    <tr>\n",
       "      <th>3848961</th>\n",
       "      <td>-8.684895</td>\n",
       "      <td>41.225435</td>\n",
       "      <td>957</td>\n",
       "      <td>R 31 DE JANEIRO</td>\n",
       "      <td>NaN</td>\n",
       "      <td>PERAFITA</td>\n",
       "      <td>NaN</td>\n",
       "      <td>NaN</td>\n",
       "      <td>4455-584</td>\n",
       "      <td>pt.ine.add.PTCONT.4239550</td>\n",
       "      <td>4673b8ab0f970c7f</td>\n",
       "    </tr>\n",
       "    <tr>\n",
       "      <th>5823198</th>\n",
       "      <td>-25.637087</td>\n",
       "      <td>37.756201</td>\n",
       "      <td>68</td>\n",
       "      <td>CAN FAIAS</td>\n",
       "      <td>NaN</td>\n",
       "      <td>PONTA DELGADA</td>\n",
       "      <td>NaN</td>\n",
       "      <td>NaN</td>\n",
       "      <td>9500-701</td>\n",
       "      <td>pt.ine.add.AC26.39272</td>\n",
       "      <td>eccf9fa4195ad2c9</td>\n",
       "    </tr>\n",
       "    <tr>\n",
       "      <th>1821027</th>\n",
       "      <td>-7.704664</td>\n",
       "      <td>37.093220</td>\n",
       "      <td>NaN</td>\n",
       "      <td>R 25 DE ABRIL</td>\n",
       "      <td>NaN</td>\n",
       "      <td>LUZ TVR</td>\n",
       "      <td>NaN</td>\n",
       "      <td>NaN</td>\n",
       "      <td>8800-113</td>\n",
       "      <td>pt.ine.add.PTCONT.1819207</td>\n",
       "      <td>08aefd1d61ac0310</td>\n",
       "    </tr>\n",
       "    <tr>\n",
       "      <th>3266093</th>\n",
       "      <td>-9.085827</td>\n",
       "      <td>38.876213</td>\n",
       "      <td>B</td>\n",
       "      <td>R ALMADA NEGREIROS</td>\n",
       "      <td>NaN</td>\n",
       "      <td>VIALONGA</td>\n",
       "      <td>NaN</td>\n",
       "      <td>NaN</td>\n",
       "      <td>2625-638</td>\n",
       "      <td>pt.ine.add.PTCONT.2858732</td>\n",
       "      <td>908eda230b212261</td>\n",
       "    </tr>\n",
       "  </tbody>\n",
       "</table>\n",
       "</div>"
      ],
      "text/plain": [
       "               LON        LAT NUMBER              STREET  UNIT  \\\n",
       "4410514  -8.235179  39.479835     56         R CALDEIRAS   NaN   \n",
       "3848961  -8.684895  41.225435    957     R 31 DE JANEIRO   NaN   \n",
       "5823198 -25.637087  37.756201     68           CAN FAIAS   NaN   \n",
       "1821027  -7.704664  37.093220    NaN       R 25 DE ABRIL   NaN   \n",
       "3266093  -9.085827  38.876213      B  R ALMADA NEGREIROS   NaN   \n",
       "\n",
       "                       CITY  DISTRICT  REGION  POSTCODE  \\\n",
       "4410514  RIO DE MOINHOS ABT       NaN     NaN  2200-788   \n",
       "3848961            PERAFITA       NaN     NaN  4455-584   \n",
       "5823198       PONTA DELGADA       NaN     NaN  9500-701   \n",
       "1821027             LUZ TVR       NaN     NaN  8800-113   \n",
       "3266093            VIALONGA       NaN     NaN  2625-638   \n",
       "\n",
       "                                ID              HASH  \n",
       "4410514  pt.ine.add.PTCONT.4596805  9606f35c2b1b19d0  \n",
       "3848961  pt.ine.add.PTCONT.4239550  4673b8ab0f970c7f  \n",
       "5823198      pt.ine.add.AC26.39272  eccf9fa4195ad2c9  \n",
       "1821027  pt.ine.add.PTCONT.1819207  08aefd1d61ac0310  \n",
       "3266093  pt.ine.add.PTCONT.2858732  908eda230b212261  "
      ]
     },
     "execution_count": 4,
     "metadata": {},
     "output_type": "execute_result"
    }
   ],
   "source": [
    "open_addresses.head()"
   ]
  },
  {
   "cell_type": "code",
   "execution_count": 5,
   "metadata": {
    "scrolled": true
   },
   "outputs": [
    {
     "name": "stderr",
     "output_type": "stream",
     "text": [
      "100%|██████████| 250000/250000 [00:00<00:00, 621211.61it/s]\n",
      "100%|██████████| 250000/250000 [00:00<00:00, 757994.33it/s]\n"
     ]
    }
   ],
   "source": [
    "open_addresses = open_addresses.fillna('')\n",
    "const_matrix = open_addresses[['STREET', 'NUMBER', 'POSTCODE', 'CITY']].values\n",
    "addresses_raw = map(lambda x: f'{x[0]} {x[1]}, {x[2]} {x[3]}'.lower().replace(' , ', ', '), tqdm(const_matrix))\n",
    "addresses_raw = tuple(addresses_raw)\n",
    "maxlen = len(max(addresses_raw, key=len))\n",
    "addresses = map(lambda x: x.ljust(maxlen), tqdm(addresses_raw))\n",
    "addresses = tuple(addresses)"
   ]
  },
  {
   "cell_type": "code",
   "execution_count": 6,
   "metadata": {},
   "outputs": [
    {
     "name": "stderr",
     "output_type": "stream",
     "text": [
      "250000it [00:12, 20414.32it/s]\n"
     ]
    }
   ],
   "source": [
    "text = tuple(set(\" \".join(addresses)))\n",
    "encoding = {key: value for value, key in enumerate(text)}\n",
    "decoding = {value: key for value, key in enumerate(text)}\n",
    "del(text)\n",
    "\n",
    "X = np.zeros(shape=(len(addresses), maxlen, len(encoding)), dtype=bool)\n",
    "\n",
    "for i, row in tqdm(enumerate(addresses)):\n",
    "    for t, letter in enumerate(row):\n",
    "        X[i, t, encoding[letter]] = True"
   ]
  },
  {
   "cell_type": "code",
   "execution_count": 7,
   "metadata": {},
   "outputs": [],
   "source": [
    "y = X.copy()"
   ]
  },
  {
   "cell_type": "code",
   "execution_count": 8,
   "metadata": {},
   "outputs": [],
   "source": [
    "def decode_matrix(matrix):\n",
    "    decode_func = lambda x: decoding[np.argmax(x)]\n",
    "    decoded = [tuple(map(decode_func, row)) for row in tqdm(matrix)]\n",
    "        \n",
    "    return decoded"
   ]
  },
  {
   "cell_type": "markdown",
   "metadata": {},
   "source": [
    "### Simple Model"
   ]
  },
  {
   "cell_type": "code",
   "execution_count": 9,
   "metadata": {},
   "outputs": [
    {
     "name": "stdout",
     "output_type": "stream",
     "text": [
      "Model: \"sequential\"\n",
      "_________________________________________________________________\n",
      "Layer (type)                 Output Shape              Param #   \n",
      "=================================================================\n",
      "lstm (LSTM)                  (None, 90, 512)           1177600   \n",
      "_________________________________________________________________\n",
      "leaky_re_lu (LeakyReLU)      (None, 90, 512)           0         \n",
      "_________________________________________________________________\n",
      "lstm_1 (LSTM)                (None, 90, 256)           787456    \n",
      "_________________________________________________________________\n",
      "leaky_re_lu_1 (LeakyReLU)    (None, 90, 256)           0         \n",
      "_________________________________________________________________\n",
      "lstm_2 (LSTM)                (None, 90, 128)           197120    \n",
      "_________________________________________________________________\n",
      "leaky_re_lu_2 (LeakyReLU)    (None, 90, 128)           0         \n",
      "_________________________________________________________________\n",
      "time_distributed (TimeDistri (None, 90, 62)            7998      \n",
      "=================================================================\n",
      "Total params: 2,170,174\n",
      "Trainable params: 2,170,174\n",
      "Non-trainable params: 0\n",
      "_________________________________________________________________\n"
     ]
    }
   ],
   "source": [
    "simple = Sequential()\n",
    "\n",
    "simple.add(LSTM(512, return_sequences=True, input_shape=(maxlen, len(encoding))))\n",
    "simple.add(LeakyReLU())\n",
    "\n",
    "simple.add(LSTM(256, return_sequences=True))\n",
    "simple.add(LeakyReLU())\n",
    "\n",
    "simple.add(LSTM(128, return_sequences=True))\n",
    "simple.add(LeakyReLU())\n",
    "\n",
    "simple.add(TimeDistributed(Dense(len(encoding), activation='softmax')))\n",
    "\n",
    "\n",
    "optimizer = Adam(lr=0.01)\n",
    "\n",
    "simple.compile(loss='categorical_crossentropy', optimizer=optimizer, metrics=['accuracy'])\n",
    "simple.summary()"
   ]
  },
  {
   "cell_type": "code",
   "execution_count": null,
   "metadata": {},
   "outputs": [
    {
     "name": "stdout",
     "output_type": "stream",
     "text": [
      "Train on 225000 samples, validate on 25000 samples\n",
      "Epoch 1/5\n",
      " 19072/225000 [=>............................] - ETA: 57:07 - loss: 1.6859 - accuracy: 0.6420"
     ]
    }
   ],
   "source": [
    "history = simple.fit(\n",
    "    X,\n",
    "    y,\n",
    "    batch_size=128,\n",
    "    epochs=5,\n",
    "    shuffle=True,\n",
    "    validation_split=0.1\n",
    ")"
   ]
  }
 ],
 "metadata": {
  "kernelspec": {
   "display_name": "Python 3",
   "language": "python",
   "name": "python3"
  },
  "language_info": {
   "codemirror_mode": {
    "name": "ipython",
    "version": 3
   },
   "file_extension": ".py",
   "mimetype": "text/x-python",
   "name": "python",
   "nbconvert_exporter": "python",
   "pygments_lexer": "ipython3",
   "version": "3.7.4"
  }
 },
 "nbformat": 4,
 "nbformat_minor": 4
}
