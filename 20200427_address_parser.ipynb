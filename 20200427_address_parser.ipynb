{
 "cells": [
  {
   "cell_type": "markdown",
   "metadata": {},
   "source": [
    "# Address Parser"
   ]
  },
  {
   "cell_type": "markdown",
   "metadata": {},
   "source": [
    "Goal: As a DS, I want to create a Model, which is able to extract the street name, the house number, the postal_code and the city from an arbitrary address.\n",
    "\n",
    "Approach:\n",
    "- Construct simple, standardized training addresses\n",
    "- Test first iteration of model on this training set\n",
    "- Introduce random permutations of addresses\n",
    "- Test and iterate over model to deal with random permutations\n",
    "\n",
    "Source for addresses: https://openaddresses.io/"
   ]
  },
  {
   "cell_type": "code",
   "execution_count": 1,
   "metadata": {},
   "outputs": [],
   "source": [
    "import sys\n",
    "\n",
    "import pandas as pd\n",
    "import numpy as np\n",
    "from tqdm import tqdm\n",
    "\n",
    "from tensorflow.keras.models import Sequential\n",
    "from tensorflow.keras.layers import Dense, LSTM, RNN, Bidirectional, TimeDistributed, LeakyReLU, ReLU\n",
    "from tensorflow.keras.optimizers import Adam\n",
    "\n",
    "from source.address_permutator import AddressPermutator"
   ]
  },
  {
   "cell_type": "code",
   "execution_count": 2,
   "metadata": {},
   "outputs": [],
   "source": [
    "open_addresses = pd.read_csv('data/openaddr-collected-europe/pt/countrywide.csv').sample(250000)"
   ]
  },
  {
   "cell_type": "code",
   "execution_count": 3,
   "metadata": {},
   "outputs": [
    {
     "data": {
      "text/plain": [
       "0.117051391"
      ]
     },
     "execution_count": 3,
     "metadata": {},
     "output_type": "execute_result"
    }
   ],
   "source": [
    "sys.getsizeof(open_addresses)*1e-9"
   ]
  },
  {
   "cell_type": "markdown",
   "metadata": {},
   "source": [
    "### Create Addresses"
   ]
  },
  {
   "cell_type": "code",
   "execution_count": 4,
   "metadata": {},
   "outputs": [
    {
     "data": {
      "text/html": [
       "<div>\n",
       "<style scoped>\n",
       "    .dataframe tbody tr th:only-of-type {\n",
       "        vertical-align: middle;\n",
       "    }\n",
       "\n",
       "    .dataframe tbody tr th {\n",
       "        vertical-align: top;\n",
       "    }\n",
       "\n",
       "    .dataframe thead th {\n",
       "        text-align: right;\n",
       "    }\n",
       "</style>\n",
       "<table border=\"1\" class=\"dataframe\">\n",
       "  <thead>\n",
       "    <tr style=\"text-align: right;\">\n",
       "      <th></th>\n",
       "      <th>LON</th>\n",
       "      <th>LAT</th>\n",
       "      <th>NUMBER</th>\n",
       "      <th>STREET</th>\n",
       "      <th>UNIT</th>\n",
       "      <th>CITY</th>\n",
       "      <th>DISTRICT</th>\n",
       "      <th>REGION</th>\n",
       "      <th>POSTCODE</th>\n",
       "      <th>ID</th>\n",
       "      <th>HASH</th>\n",
       "    </tr>\n",
       "  </thead>\n",
       "  <tbody>\n",
       "    <tr>\n",
       "      <th>5135157</th>\n",
       "      <td>-8.426725</td>\n",
       "      <td>41.824786</td>\n",
       "      <td>NaN</td>\n",
       "      <td>NaN</td>\n",
       "      <td>NaN</td>\n",
       "      <td>ARCOS DE VALDEVEZ</td>\n",
       "      <td>NaN</td>\n",
       "      <td>NaN</td>\n",
       "      <td>4970-773</td>\n",
       "      <td>pt.ine.add.PTCONT.5138620</td>\n",
       "      <td>7badd876ea4dba4b</td>\n",
       "    </tr>\n",
       "    <tr>\n",
       "      <th>1244929</th>\n",
       "      <td>-8.824561</td>\n",
       "      <td>40.191252</td>\n",
       "      <td>NaN</td>\n",
       "      <td>R LAVADOURO</td>\n",
       "      <td>NaN</td>\n",
       "      <td>FIGUEIRA DA FOZ</td>\n",
       "      <td>NaN</td>\n",
       "      <td>NaN</td>\n",
       "      <td>3080-437</td>\n",
       "      <td>pt.ine.add.PTCONT.1246122</td>\n",
       "      <td>74630bc4de087779</td>\n",
       "    </tr>\n",
       "    <tr>\n",
       "      <th>1833424</th>\n",
       "      <td>-7.530559</td>\n",
       "      <td>37.176477</td>\n",
       "      <td>NaN</td>\n",
       "      <td>AV MANUEL ROSA MENDES</td>\n",
       "      <td>NaN</td>\n",
       "      <td>VILA NOVA DE CACELA</td>\n",
       "      <td>NaN</td>\n",
       "      <td>NaN</td>\n",
       "      <td>8900-017</td>\n",
       "      <td>pt.ine.add.PTCONT.1552920</td>\n",
       "      <td>26200a2b8aeb512c</td>\n",
       "    </tr>\n",
       "    <tr>\n",
       "      <th>2327817</th>\n",
       "      <td>-9.339334</td>\n",
       "      <td>38.736575</td>\n",
       "      <td>CASA 2</td>\n",
       "      <td>EN 249</td>\n",
       "      <td>NaN</td>\n",
       "      <td>SÃO DOMINGOS DE RANA</td>\n",
       "      <td>NaN</td>\n",
       "      <td>NaN</td>\n",
       "      <td>2785-034</td>\n",
       "      <td>pt.ine.add.PTCONT.3000242</td>\n",
       "      <td>e8256078fd78b2e6</td>\n",
       "    </tr>\n",
       "    <tr>\n",
       "      <th>340273</th>\n",
       "      <td>-8.752097</td>\n",
       "      <td>40.558268</td>\n",
       "      <td>NaN</td>\n",
       "      <td>R TRAS DAS ESCOLAS</td>\n",
       "      <td>NaN</td>\n",
       "      <td>GAFANHA DA BOA HORA</td>\n",
       "      <td>NaN</td>\n",
       "      <td>NaN</td>\n",
       "      <td>3840-255</td>\n",
       "      <td>pt.ine.add.PTCONT.286741</td>\n",
       "      <td>6b6a2a498984026d</td>\n",
       "    </tr>\n",
       "  </tbody>\n",
       "</table>\n",
       "</div>"
      ],
      "text/plain": [
       "              LON        LAT  NUMBER                 STREET  UNIT  \\\n",
       "5135157 -8.426725  41.824786     NaN                    NaN   NaN   \n",
       "1244929 -8.824561  40.191252     NaN            R LAVADOURO   NaN   \n",
       "1833424 -7.530559  37.176477     NaN  AV MANUEL ROSA MENDES   NaN   \n",
       "2327817 -9.339334  38.736575  CASA 2                 EN 249   NaN   \n",
       "340273  -8.752097  40.558268     NaN     R TRAS DAS ESCOLAS   NaN   \n",
       "\n",
       "                         CITY  DISTRICT  REGION  POSTCODE  \\\n",
       "5135157     ARCOS DE VALDEVEZ       NaN     NaN  4970-773   \n",
       "1244929       FIGUEIRA DA FOZ       NaN     NaN  3080-437   \n",
       "1833424   VILA NOVA DE CACELA       NaN     NaN  8900-017   \n",
       "2327817  SÃO DOMINGOS DE RANA       NaN     NaN  2785-034   \n",
       "340273    GAFANHA DA BOA HORA       NaN     NaN  3840-255   \n",
       "\n",
       "                                ID              HASH  \n",
       "5135157  pt.ine.add.PTCONT.5138620  7badd876ea4dba4b  \n",
       "1244929  pt.ine.add.PTCONT.1246122  74630bc4de087779  \n",
       "1833424  pt.ine.add.PTCONT.1552920  26200a2b8aeb512c  \n",
       "2327817  pt.ine.add.PTCONT.3000242  e8256078fd78b2e6  \n",
       "340273    pt.ine.add.PTCONT.286741  6b6a2a498984026d  "
      ]
     },
     "execution_count": 4,
     "metadata": {},
     "output_type": "execute_result"
    }
   ],
   "source": [
    "open_addresses.head()"
   ]
  },
  {
   "cell_type": "code",
   "execution_count": 5,
   "metadata": {
    "scrolled": true
   },
   "outputs": [],
   "source": [
    "open_addresses = open_addresses.fillna('')\n",
    "const_matrix = open_addresses[['STREET', 'NUMBER', 'POSTCODE', 'CITY']].values"
   ]
  },
  {
   "cell_type": "code",
   "execution_count": 6,
   "metadata": {},
   "outputs": [],
   "source": [
    "permutator = AddressPermutator(const_matrix.copy())"
   ]
  },
  {
   "cell_type": "code",
   "execution_count": 7,
   "metadata": {},
   "outputs": [
    {
     "name": "stderr",
     "output_type": "stream",
     "text": [
      "250000it [00:02, 94516.21it/s]\n"
     ]
    }
   ],
   "source": [
    "perm, standard = permutator.permutate()"
   ]
  },
  {
   "cell_type": "code",
   "execution_count": 8,
   "metadata": {},
   "outputs": [],
   "source": [
    "X, y = permutator.encode(perm, standard)"
   ]
  },
  {
   "cell_type": "markdown",
   "metadata": {},
   "source": [
    "### Simple Model"
   ]
  },
  {
   "cell_type": "code",
   "execution_count": 9,
   "metadata": {},
   "outputs": [
    {
     "name": "stdout",
     "output_type": "stream",
     "text": [
      "Model: \"sequential\"\n",
      "_________________________________________________________________\n",
      "Layer (type)                 Output Shape              Param #   \n",
      "=================================================================\n",
      "lstm (LSTM)                  (None, 106, 512)          1179648   \n",
      "_________________________________________________________________\n",
      "leaky_re_lu (LeakyReLU)      (None, 106, 512)          0         \n",
      "_________________________________________________________________\n",
      "lstm_1 (LSTM)                (None, 106, 256)          787456    \n",
      "_________________________________________________________________\n",
      "leaky_re_lu_1 (LeakyReLU)    (None, 106, 256)          0         \n",
      "_________________________________________________________________\n",
      "lstm_2 (LSTM)                (None, 106, 128)          197120    \n",
      "_________________________________________________________________\n",
      "leaky_re_lu_2 (LeakyReLU)    (None, 106, 128)          0         \n",
      "_________________________________________________________________\n",
      "time_distributed (TimeDistri (None, 106, 63)           8127      \n",
      "=================================================================\n",
      "Total params: 2,172,351\n",
      "Trainable params: 2,172,351\n",
      "Non-trainable params: 0\n",
      "_________________________________________________________________\n"
     ]
    }
   ],
   "source": [
    "simple = Sequential()\n",
    "\n",
    "simple.add(LSTM(512, return_sequences=True, input_shape=(X.shape[1], X.shape[2])))\n",
    "simple.add(LeakyReLU())\n",
    "\n",
    "simple.add(LSTM(256, return_sequences=True))\n",
    "simple.add(LeakyReLU())\n",
    "\n",
    "simple.add(LSTM(128, return_sequences=True))\n",
    "simple.add(LeakyReLU())\n",
    "\n",
    "simple.add(TimeDistributed(Dense(X.shape[2], activation='softmax')))\n",
    "\n",
    "optimizer = Adam(lr=0.01)\n",
    "\n",
    "simple.compile(loss='categorical_crossentropy', optimizer=optimizer, metrics=['accuracy'])\n",
    "simple.summary()"
   ]
  },
  {
   "cell_type": "code",
   "execution_count": null,
   "metadata": {},
   "outputs": [
    {
     "name": "stdout",
     "output_type": "stream",
     "text": [
      "Train on 225000 samples, validate on 25000 samples\n",
      "Epoch 1/5\n",
      "214272/225000 [===========================>..] - ETA: 2:52 - loss: 1.2158 - accuracy: 0.7049"
     ]
    }
   ],
   "source": [
    "history = simple.fit(\n",
    "    X,\n",
    "    y,\n",
    "    batch_size=128,\n",
    "    epochs=5,\n",
    "    shuffle=True,\n",
    "    validation_split=0.1\n",
    ")"
   ]
  }
 ],
 "metadata": {
  "kernelspec": {
   "display_name": "Python 3",
   "language": "python",
   "name": "python3"
  },
  "language_info": {
   "codemirror_mode": {
    "name": "ipython",
    "version": 3
   },
   "file_extension": ".py",
   "mimetype": "text/x-python",
   "name": "python",
   "nbconvert_exporter": "python",
   "pygments_lexer": "ipython3",
   "version": "3.7.4"
  }
 },
 "nbformat": 4,
 "nbformat_minor": 4
}
